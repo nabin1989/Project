{
 "cells": [
  {
   "cell_type": "code",
   "execution_count": 1,
   "metadata": {},
   "outputs": [],
   "source": [
    "import pandas as pd\n",
    "data = pd.read_csv('abcnews-date-text.csv', error_bad_lines=False);\n",
    "data_text = data[['headline_text']]\n",
    "data_text['index'] = data_text.index\n",
    "documents = data_text"
   ]
  },
  {
   "cell_type": "code",
   "execution_count": 2,
   "metadata": {},
   "outputs": [
    {
     "name": "stdout",
     "output_type": "stream",
     "text": [
      "1186018\n",
      "                                       headline_text  index\n",
      "0  aba decides against community broadcasting lic...      0\n",
      "1     act fire witnesses must be aware of defamation      1\n",
      "2     a g calls for infrastructure protection summit      2\n",
      "3           air nz staff in aust strike for pay rise      3\n",
      "4      air nz strike to affect australian travellers      4\n"
     ]
    }
   ],
   "source": [
    "print(len(documents))\n",
    "print(documents[:5])"
   ]
  },
  {
   "cell_type": "markdown",
   "metadata": {},
   "source": [
    "## Data Pre-processing\n",
    "We will perform the following steps:\n",
    "Tokenization: Split the text into sentences and the sentences into words. Lowercase the words and remove punctuation.\n",
    "Words that have fewer than 3 characters are removed.\n",
    "All stopwords are removed.\n",
    "Words are lemmatized — words in third person are changed to first person and verbs in past and future tenses are changed into present.\n",
    "Words are stemmed — words are reduced to their root form."
   ]
  },
  {
   "cell_type": "code",
   "execution_count": 3,
   "metadata": {},
   "outputs": [
    {
     "name": "stderr",
     "output_type": "stream",
     "text": [
      "[nltk_data] Downloading package wordnet to\n",
      "[nltk_data]     C:\\Users\\User\\AppData\\Roaming\\nltk_data...\n",
      "[nltk_data]   Package wordnet is already up-to-date!\n"
     ]
    },
    {
     "data": {
      "text/plain": [
       "True"
      ]
     },
     "execution_count": 3,
     "metadata": {},
     "output_type": "execute_result"
    }
   ],
   "source": [
    "# Loading gensim and nltk libraries\n",
    "import gensim\n",
    "from gensim.utils import simple_preprocess\n",
    "from gensim.parsing.preprocessing import STOPWORDS\n",
    "from nltk.stem import WordNetLemmatizer, SnowballStemmer\n",
    "from nltk.stem.porter import *\n",
    "import numpy as np\n",
    "np.random.seed(2018)\n",
    "import nltk\n",
    "import nltk.stem as stemmer\n",
    "nltk.download('wordnet')"
   ]
  },
  {
   "cell_type": "code",
   "execution_count": 4,
   "metadata": {},
   "outputs": [],
   "source": [
    "from nltk.stem import PorterStemmer\n",
    "stemmer = PorterStemmer()"
   ]
  },
  {
   "cell_type": "code",
   "execution_count": 5,
   "metadata": {},
   "outputs": [],
   "source": [
    "## Write a function to perform lemmatize and stem preprocessing steps on the data set.\n",
    "def lemmatize_stemming(text):\n",
    "    return stemmer.stem(WordNetLemmatizer().lemmatize(text, pos='v'))\n",
    "def preprocess(text):\n",
    "    result = []\n",
    "    for token in gensim.utils.simple_preprocess(text):\n",
    "        if token not in gensim.parsing.preprocessing.STOPWORDS and len(token) > 3:\n",
    "            result.append(lemmatize_stemming(token))\n",
    "    return result"
   ]
  },
  {
   "cell_type": "code",
   "execution_count": 6,
   "metadata": {},
   "outputs": [
    {
     "name": "stdout",
     "output_type": "stream",
     "text": [
      "original document: \n",
      "['ratepayers', 'group', 'wants', 'compulsory', 'local', 'govt', 'voting']\n",
      "\n",
      "\n",
      " tokenized and lemmatized document: \n",
      "['ratepay', 'group', 'want', 'compulsori', 'local', 'govt', 'vote']\n"
     ]
    }
   ],
   "source": [
    "#Select a document to preview after preprocessing.\n",
    "doc_sample = documents[documents['index'] == 4310].values[0][0]\n",
    "print('original document: ')\n",
    "words = []\n",
    "for word in doc_sample.split(' '):\n",
    "    words.append(word)\n",
    "print(words)\n",
    "print('\\n\\n tokenized and lemmatized document: ')\n",
    "print(preprocess(doc_sample))"
   ]
  },
  {
   "cell_type": "code",
   "execution_count": 7,
   "metadata": {},
   "outputs": [],
   "source": [
    "#Preprocess the headline text, saving the results as ‘processed_docs’"
   ]
  },
  {
   "cell_type": "code",
   "execution_count": 8,
   "metadata": {},
   "outputs": [
    {
     "data": {
      "text/plain": [
       "0               [decid, commun, broadcast, licenc]\n",
       "1                               [wit, awar, defam]\n",
       "2           [call, infrastructur, protect, summit]\n",
       "3                      [staff, aust, strike, rise]\n",
       "4             [strike, affect, australian, travel]\n",
       "5               [ambiti, olsson, win, tripl, jump]\n",
       "6           [antic, delight, record, break, barca]\n",
       "7    [aussi, qualifi, stosur, wast, memphi, match]\n",
       "8            [aust, address, secur, council, iraq]\n",
       "9                         [australia, lock, timet]\n",
       "Name: headline_text, dtype: object"
      ]
     },
     "execution_count": 8,
     "metadata": {},
     "output_type": "execute_result"
    }
   ],
   "source": [
    "processed_docs = documents['headline_text'].map(preprocess)\n",
    "processed_docs[:10]"
   ]
  },
  {
   "cell_type": "code",
   "execution_count": 9,
   "metadata": {},
   "outputs": [
    {
     "name": "stdout",
     "output_type": "stream",
     "text": [
      "0 broadcast\n",
      "1 commun\n",
      "2 decid\n",
      "3 licenc\n",
      "4 awar\n",
      "5 defam\n",
      "6 wit\n",
      "7 call\n",
      "8 infrastructur\n",
      "9 protect\n",
      "10 summit\n"
     ]
    }
   ],
   "source": [
    "#Bag of Words on the Data set\n",
    "#Create a dictionary from ‘processed_docs’ containing the number of times a word appears in the training set.\n",
    "dictionary = gensim.corpora.Dictionary(processed_docs)\n",
    "count = 0\n",
    "for k, v in dictionary.iteritems():\n",
    "    print(k, v)\n",
    "    count += 1\n",
    "    if count > 10:\n",
    "        break"
   ]
  },
  {
   "cell_type": "code",
   "execution_count": 10,
   "metadata": {},
   "outputs": [],
   "source": [
    "dictionary.filter_extremes(no_below=15, no_above=0.5, keep_n=100000)"
   ]
  },
  {
   "cell_type": "code",
   "execution_count": 11,
   "metadata": {},
   "outputs": [],
   "source": [
    "#Gensim doc2bow\n",
    "#For each document we create a dictionary reporting how many\n",
    "#words and how many times those words appear. Save this to ‘bow_corpus’, then check our selected document earlier."
   ]
  },
  {
   "cell_type": "code",
   "execution_count": 12,
   "metadata": {},
   "outputs": [
    {
     "data": {
      "text/plain": [
       "[(162, 1), (240, 1), (292, 1), (589, 1), (839, 1), (3575, 1), (3576, 1)]"
      ]
     },
     "execution_count": 12,
     "metadata": {},
     "output_type": "execute_result"
    }
   ],
   "source": [
    "bow_corpus = [dictionary.doc2bow(doc) for doc in processed_docs]\n",
    "bow_corpus[4310]"
   ]
  },
  {
   "cell_type": "code",
   "execution_count": 13,
   "metadata": {},
   "outputs": [
    {
     "name": "stdout",
     "output_type": "stream",
     "text": [
      "Word 162 (\"govt\") appears 1 time.\n",
      "Word 240 (\"group\") appears 1 time.\n",
      "Word 292 (\"vote\") appears 1 time.\n",
      "Word 589 (\"local\") appears 1 time.\n",
      "Word 839 (\"want\") appears 1 time.\n",
      "Word 3575 (\"compulsori\") appears 1 time.\n",
      "Word 3576 (\"ratepay\") appears 1 time.\n"
     ]
    }
   ],
   "source": [
    "bow_doc_4310 = bow_corpus[4310]\n",
    "for i in range(len(bow_doc_4310)):\n",
    "    print(\"Word {} (\\\"{}\\\") appears {} time.\".format(bow_doc_4310[i][0], \n",
    "                                               dictionary[bow_doc_4310[i][0]], \n",
    "bow_doc_4310[i][1]))"
   ]
  },
  {
   "cell_type": "code",
   "execution_count": 14,
   "metadata": {},
   "outputs": [],
   "source": [
    "#TF-IDF\n",
    "#Create tf-idf model object using models.\n",
    "#TfidfModel on ‘bow_corpus’ and save it to ‘tfidf’, then apply transformation to the entire corpus\n",
    "#and call it ‘corpus_tfidf’. Finally we preview TF-IDF scores for our first document."
   ]
  },
  {
   "cell_type": "code",
   "execution_count": 15,
   "metadata": {},
   "outputs": [
    {
     "name": "stdout",
     "output_type": "stream",
     "text": [
      "[(0, 0.5860586362613176),\n",
      " (1, 0.3854657616151764),\n",
      " (2, 0.5006618583937537),\n",
      " (3, 0.5072367544211179)]\n"
     ]
    }
   ],
   "source": [
    "from gensim import corpora, models\n",
    "tfidf = models.TfidfModel(bow_corpus)\n",
    "corpus_tfidf = tfidf[bow_corpus]\n",
    "from pprint import pprint\n",
    "for doc in corpus_tfidf:\n",
    "    pprint(doc)\n",
    "    break"
   ]
  },
  {
   "cell_type": "code",
   "execution_count": 16,
   "metadata": {},
   "outputs": [],
   "source": [
    "#Running LDA using Bag of Words\n",
    "#Train our lda model using gensim.models.LdaMulticore and save it to ‘lda_model’\n",
    "lda_model = gensim.models.LdaMulticore(bow_corpus, num_topics=10, id2word=dictionary, passes=2, workers=2)\n"
   ]
  },
  {
   "cell_type": "code",
   "execution_count": 17,
   "metadata": {},
   "outputs": [
    {
     "name": "stdout",
     "output_type": "stream",
     "text": [
      "Topic: 0 \n",
      "Words: 0.026*\"market\" + 0.022*\"school\" + 0.015*\"investig\" + 0.015*\"interview\" + 0.014*\"street\" + 0.013*\"fall\" + 0.013*\"student\" + 0.011*\"scott\" + 0.011*\"share\" + 0.011*\"bushfir\"\n",
      "Topic: 1 \n",
      "Words: 0.020*\"donald\" + 0.018*\"plan\" + 0.018*\"canberra\" + 0.015*\"water\" + 0.013*\"feder\" + 0.013*\"council\" + 0.012*\"speak\" + 0.012*\"price\" + 0.011*\"chang\" + 0.010*\"drum\"\n",
      "Topic: 2 \n",
      "Words: 0.041*\"australia\" + 0.037*\"trump\" + 0.024*\"world\" + 0.016*\"open\" + 0.014*\"tasmania\" + 0.014*\"final\" + 0.013*\"australian\" + 0.012*\"win\" + 0.011*\"break\" + 0.010*\"game\"\n",
      "Topic: 3 \n",
      "Words: 0.029*\"queensland\" + 0.021*\"help\" + 0.017*\"miss\" + 0.016*\"royal\" + 0.015*\"tasmanian\" + 0.014*\"bank\" + 0.013*\"victoria\" + 0.013*\"report\" + 0.012*\"commiss\" + 0.011*\"drought\"\n",
      "Topic: 4 \n",
      "Words: 0.023*\"news\" + 0.022*\"women\" + 0.021*\"live\" + 0.020*\"warn\" + 0.020*\"coast\" + 0.019*\"health\" + 0.016*\"rural\" + 0.015*\"countri\" + 0.015*\"busi\" + 0.013*\"gold\"\n",
      "Topic: 5 \n",
      "Words: 0.054*\"polic\" + 0.050*\"say\" + 0.024*\"kill\" + 0.023*\"attack\" + 0.021*\"crash\" + 0.018*\"die\" + 0.018*\"shoot\" + 0.017*\"perth\" + 0.014*\"woman\" + 0.014*\"arrest\"\n",
      "Topic: 6 \n",
      "Words: 0.014*\"show\" + 0.013*\"liber\" + 0.012*\"morrison\" + 0.012*\"wall\" + 0.012*\"young\" + 0.011*\"station\" + 0.010*\"christma\" + 0.010*\"beach\" + 0.010*\"research\" + 0.009*\"shark\"\n",
      "Topic: 7 \n",
      "Words: 0.036*\"elect\" + 0.033*\"govern\" + 0.026*\"china\" + 0.014*\"australia\" + 0.012*\"million\" + 0.012*\"citi\" + 0.011*\"trade\" + 0.011*\"presid\" + 0.011*\"deal\" + 0.010*\"media\"\n",
      "Topic: 8 \n",
      "Words: 0.034*\"year\" + 0.031*\"charg\" + 0.028*\"court\" + 0.026*\"murder\" + 0.018*\"face\" + 0.017*\"jail\" + 0.016*\"accus\" + 0.015*\"death\" + 0.014*\"peopl\" + 0.013*\"trial\"\n",
      "Topic: 9 \n",
      "Words: 0.020*\"south\" + 0.018*\"adelaid\" + 0.017*\"north\" + 0.015*\"protest\" + 0.014*\"labor\" + 0.011*\"west\" + 0.011*\"worker\" + 0.010*\"state\" + 0.009*\"stori\" + 0.009*\"polit\"\n"
     ]
    }
   ],
   "source": [
    "#For each topic, we will explore the words occuring in that topic and its relative weight.\n",
    "for idx, topic in lda_model.print_topics(-1):\n",
    "    print('Topic: {} \\nWords: {}'.format(idx, topic))"
   ]
  },
  {
   "cell_type": "code",
   "execution_count": 18,
   "metadata": {},
   "outputs": [
    {
     "name": "stdout",
     "output_type": "stream",
     "text": [
      "Topic: 0 Word: 0.013*\"coast\" + 0.009*\"gold\" + 0.006*\"outback\" + 0.005*\"coal\" + 0.005*\"australia\" + 0.005*\"queensland\" + 0.005*\"project\" + 0.004*\"destroy\" + 0.004*\"social\" + 0.004*\"budget\"\n",
      "Topic: 1 Word: 0.017*\"crash\" + 0.015*\"drum\" + 0.010*\"tuesday\" + 0.009*\"christma\" + 0.008*\"sport\" + 0.008*\"juli\" + 0.008*\"road\" + 0.008*\"die\" + 0.007*\"financ\" + 0.007*\"truck\"\n",
      "Topic: 2 Word: 0.013*\"search\" + 0.012*\"miss\" + 0.007*\"mount\" + 0.006*\"billion\" + 0.006*\"data\" + 0.006*\"wrap\" + 0.006*\"heatwav\" + 0.006*\"chines\" + 0.006*\"rate\" + 0.006*\"run\"\n",
      "Topic: 3 Word: 0.027*\"trump\" + 0.022*\"news\" + 0.018*\"market\" + 0.015*\"rural\" + 0.014*\"donald\" + 0.011*\"royal\" + 0.009*\"commiss\" + 0.008*\"michael\" + 0.007*\"nation\" + 0.007*\"share\"\n",
      "Topic: 4 Word: 0.013*\"elect\" + 0.009*\"govern\" + 0.008*\"labor\" + 0.008*\"turnbul\" + 0.007*\"say\" + 0.007*\"liber\" + 0.007*\"morrison\" + 0.007*\"feder\" + 0.007*\"sexual\" + 0.006*\"parti\"\n",
      "Topic: 5 Word: 0.009*\"health\" + 0.008*\"friday\" + 0.007*\"thursday\" + 0.006*\"mental\" + 0.006*\"explain\" + 0.005*\"govern\" + 0.005*\"august\" + 0.005*\"emerg\" + 0.005*\"marriag\" + 0.005*\"servic\"\n",
      "Topic: 6 Word: 0.012*\"stori\" + 0.010*\"bushfir\" + 0.010*\"farm\" + 0.009*\"weather\" + 0.008*\"live\" + 0.007*\"drought\" + 0.006*\"queensland\" + 0.006*\"rain\" + 0.006*\"farmer\" + 0.005*\"tasmania\"\n",
      "Topic: 7 Word: 0.019*\"charg\" + 0.016*\"murder\" + 0.016*\"polic\" + 0.012*\"court\" + 0.011*\"jail\" + 0.011*\"woman\" + 0.009*\"death\" + 0.009*\"arrest\" + 0.009*\"sentenc\" + 0.009*\"shoot\"\n",
      "Topic: 8 Word: 0.014*\"interview\" + 0.012*\"countri\" + 0.011*\"world\" + 0.010*\"hour\" + 0.010*\"australia\" + 0.009*\"final\" + 0.007*\"scott\" + 0.007*\"leagu\" + 0.006*\"cricket\" + 0.006*\"test\"\n",
      "Topic: 9 Word: 0.008*\"violenc\" + 0.008*\"wednesday\" + 0.007*\"korea\" + 0.007*\"grandstand\" + 0.006*\"march\" + 0.006*\"north\" + 0.006*\"age\" + 0.006*\"domest\" + 0.006*\"care\" + 0.006*\"octob\"\n"
     ]
    }
   ],
   "source": [
    "#Running LDA using TF-IDF\n",
    "lda_model_tfidf = gensim.models.LdaMulticore(corpus_tfidf, num_topics=10, id2word=dictionary, passes=2, workers=4)\n",
    "for idx, topic in lda_model_tfidf.print_topics(-1):\n",
    "    print('Topic: {} Word: {}'.format(idx, topic))"
   ]
  },
  {
   "cell_type": "code",
   "execution_count": 19,
   "metadata": {},
   "outputs": [
    {
     "data": {
      "text/plain": [
       "['ratepay', 'group', 'want', 'compulsori', 'local', 'govt', 'vote']"
      ]
     },
     "execution_count": 19,
     "metadata": {},
     "output_type": "execute_result"
    }
   ],
   "source": [
    "processed_docs[4310]"
   ]
  },
  {
   "cell_type": "code",
   "execution_count": 20,
   "metadata": {},
   "outputs": [
    {
     "name": "stdout",
     "output_type": "stream",
     "text": [
      "\n",
      "Score: 0.6173104047775269\t \n",
      "Topic: 0.020*\"donald\" + 0.018*\"plan\" + 0.018*\"canberra\" + 0.015*\"water\" + 0.013*\"feder\" + 0.013*\"council\" + 0.012*\"speak\" + 0.012*\"price\" + 0.011*\"chang\" + 0.010*\"drum\"\n",
      "\n",
      "Score: 0.15054121613502502\t \n",
      "Topic: 0.014*\"show\" + 0.013*\"liber\" + 0.012*\"morrison\" + 0.012*\"wall\" + 0.012*\"young\" + 0.011*\"station\" + 0.010*\"christma\" + 0.010*\"beach\" + 0.010*\"research\" + 0.009*\"shark\"\n",
      "\n",
      "Score: 0.1445961594581604\t \n",
      "Topic: 0.023*\"news\" + 0.022*\"women\" + 0.021*\"live\" + 0.020*\"warn\" + 0.020*\"coast\" + 0.019*\"health\" + 0.016*\"rural\" + 0.015*\"countri\" + 0.015*\"busi\" + 0.013*\"gold\"\n",
      "\n",
      "Score: 0.01250994112342596\t \n",
      "Topic: 0.020*\"south\" + 0.018*\"adelaid\" + 0.017*\"north\" + 0.015*\"protest\" + 0.014*\"labor\" + 0.011*\"west\" + 0.011*\"worker\" + 0.010*\"state\" + 0.009*\"stori\" + 0.009*\"polit\"\n",
      "\n",
      "Score: 0.012507245875895023\t \n",
      "Topic: 0.034*\"year\" + 0.031*\"charg\" + 0.028*\"court\" + 0.026*\"murder\" + 0.018*\"face\" + 0.017*\"jail\" + 0.016*\"accus\" + 0.015*\"death\" + 0.014*\"peopl\" + 0.013*\"trial\"\n",
      "\n",
      "Score: 0.012507051229476929\t \n",
      "Topic: 0.029*\"queensland\" + 0.021*\"help\" + 0.017*\"miss\" + 0.016*\"royal\" + 0.015*\"tasmanian\" + 0.014*\"bank\" + 0.013*\"victoria\" + 0.013*\"report\" + 0.012*\"commiss\" + 0.011*\"drought\"\n",
      "\n",
      "Score: 0.01250702515244484\t \n",
      "Topic: 0.054*\"polic\" + 0.050*\"say\" + 0.024*\"kill\" + 0.023*\"attack\" + 0.021*\"crash\" + 0.018*\"die\" + 0.018*\"shoot\" + 0.017*\"perth\" + 0.014*\"woman\" + 0.014*\"arrest\"\n",
      "\n",
      "Score: 0.012506981380283833\t \n",
      "Topic: 0.026*\"market\" + 0.022*\"school\" + 0.015*\"investig\" + 0.015*\"interview\" + 0.014*\"street\" + 0.013*\"fall\" + 0.013*\"student\" + 0.011*\"scott\" + 0.011*\"share\" + 0.011*\"bushfir\"\n",
      "\n",
      "Score: 0.012506981380283833\t \n",
      "Topic: 0.041*\"australia\" + 0.037*\"trump\" + 0.024*\"world\" + 0.016*\"open\" + 0.014*\"tasmania\" + 0.014*\"final\" + 0.013*\"australian\" + 0.012*\"win\" + 0.011*\"break\" + 0.010*\"game\"\n",
      "\n",
      "Score: 0.012506981380283833\t \n",
      "Topic: 0.036*\"elect\" + 0.033*\"govern\" + 0.026*\"china\" + 0.014*\"australia\" + 0.012*\"million\" + 0.012*\"citi\" + 0.011*\"trade\" + 0.011*\"presid\" + 0.011*\"deal\" + 0.010*\"media\"\n"
     ]
    }
   ],
   "source": [
    "for index, score in sorted(lda_model[bow_corpus[4310]], key=lambda tup: -1*tup[1]):\n",
    "    print(\"\\nScore: {}\\t \\nTopic: {}\".format(score, lda_model.print_topic(index, 10)))"
   ]
  },
  {
   "cell_type": "code",
   "execution_count": 21,
   "metadata": {},
   "outputs": [
    {
     "name": "stdout",
     "output_type": "stream",
     "text": [
      "\n",
      "Score: 0.526769757270813\t \n",
      "Topic: 0.013*\"elect\" + 0.009*\"govern\" + 0.008*\"labor\" + 0.008*\"turnbul\" + 0.007*\"say\" + 0.007*\"liber\" + 0.007*\"morrison\" + 0.007*\"feder\" + 0.007*\"sexual\" + 0.006*\"parti\"\n",
      "\n",
      "Score: 0.21694372594356537\t \n",
      "Topic: 0.027*\"trump\" + 0.022*\"news\" + 0.018*\"market\" + 0.015*\"rural\" + 0.014*\"donald\" + 0.011*\"royal\" + 0.009*\"commiss\" + 0.008*\"michael\" + 0.007*\"nation\" + 0.007*\"share\"\n",
      "\n",
      "Score: 0.1687326580286026\t \n",
      "Topic: 0.013*\"search\" + 0.012*\"miss\" + 0.007*\"mount\" + 0.006*\"billion\" + 0.006*\"data\" + 0.006*\"wrap\" + 0.006*\"heatwav\" + 0.006*\"chines\" + 0.006*\"rate\" + 0.006*\"run\"\n",
      "\n",
      "Score: 0.012510406784713268\t \n",
      "Topic: 0.009*\"health\" + 0.008*\"friday\" + 0.007*\"thursday\" + 0.006*\"mental\" + 0.006*\"explain\" + 0.005*\"govern\" + 0.005*\"august\" + 0.005*\"emerg\" + 0.005*\"marriag\" + 0.005*\"servic\"\n",
      "\n",
      "Score: 0.012508762069046497\t \n",
      "Topic: 0.013*\"coast\" + 0.009*\"gold\" + 0.006*\"outback\" + 0.005*\"coal\" + 0.005*\"australia\" + 0.005*\"queensland\" + 0.005*\"project\" + 0.004*\"destroy\" + 0.004*\"social\" + 0.004*\"budget\"\n",
      "\n",
      "Score: 0.012507490813732147\t \n",
      "Topic: 0.012*\"stori\" + 0.010*\"bushfir\" + 0.010*\"farm\" + 0.009*\"weather\" + 0.008*\"live\" + 0.007*\"drought\" + 0.006*\"queensland\" + 0.006*\"rain\" + 0.006*\"farmer\" + 0.005*\"tasmania\"\n",
      "\n",
      "Score: 0.012507420964539051\t \n",
      "Topic: 0.008*\"violenc\" + 0.008*\"wednesday\" + 0.007*\"korea\" + 0.007*\"grandstand\" + 0.006*\"march\" + 0.006*\"north\" + 0.006*\"age\" + 0.006*\"domest\" + 0.006*\"care\" + 0.006*\"octob\"\n",
      "\n",
      "Score: 0.012506891041994095\t \n",
      "Topic: 0.017*\"crash\" + 0.015*\"drum\" + 0.010*\"tuesday\" + 0.009*\"christma\" + 0.008*\"sport\" + 0.008*\"juli\" + 0.008*\"road\" + 0.008*\"die\" + 0.007*\"financ\" + 0.007*\"truck\"\n",
      "\n",
      "Score: 0.012506489641964436\t \n",
      "Topic: 0.019*\"charg\" + 0.016*\"murder\" + 0.016*\"polic\" + 0.012*\"court\" + 0.011*\"jail\" + 0.011*\"woman\" + 0.009*\"death\" + 0.009*\"arrest\" + 0.009*\"sentenc\" + 0.009*\"shoot\"\n",
      "\n",
      "Score: 0.012506376020610332\t \n",
      "Topic: 0.014*\"interview\" + 0.012*\"countri\" + 0.011*\"world\" + 0.010*\"hour\" + 0.010*\"australia\" + 0.009*\"final\" + 0.007*\"scott\" + 0.007*\"leagu\" + 0.006*\"cricket\" + 0.006*\"test\"\n"
     ]
    }
   ],
   "source": [
    "#Performance evaluation by classifying sample document using LDA TF-IDF model.\n",
    "for index, score in sorted(lda_model_tfidf[bow_corpus[4310]], key=lambda tup: -1*tup[1]):\n",
    "    print(\"\\nScore: {}\\t \\nTopic: {}\".format(score, lda_model_tfidf.print_topic(index, 10)))\n"
   ]
  },
  {
   "cell_type": "code",
   "execution_count": 22,
   "metadata": {},
   "outputs": [
    {
     "name": "stdout",
     "output_type": "stream",
     "text": [
      "Score: 0.5166944265365601\t Topic: 0.036*\"elect\" + 0.033*\"govern\" + 0.026*\"china\" + 0.014*\"australia\" + 0.012*\"million\"\n",
      "Score: 0.18335597217082977\t Topic: 0.020*\"south\" + 0.018*\"adelaid\" + 0.017*\"north\" + 0.015*\"protest\" + 0.014*\"labor\"\n",
      "Score: 0.18324922025203705\t Topic: 0.054*\"polic\" + 0.050*\"say\" + 0.024*\"kill\" + 0.023*\"attack\" + 0.021*\"crash\"\n",
      "Score: 0.016671964898705482\t Topic: 0.014*\"show\" + 0.013*\"liber\" + 0.012*\"morrison\" + 0.012*\"wall\" + 0.012*\"young\"\n",
      "Score: 0.016671407967805862\t Topic: 0.026*\"market\" + 0.022*\"school\" + 0.015*\"investig\" + 0.015*\"interview\" + 0.014*\"street\"\n",
      "Score: 0.016671407967805862\t Topic: 0.020*\"donald\" + 0.018*\"plan\" + 0.018*\"canberra\" + 0.015*\"water\" + 0.013*\"feder\"\n",
      "Score: 0.016671407967805862\t Topic: 0.041*\"australia\" + 0.037*\"trump\" + 0.024*\"world\" + 0.016*\"open\" + 0.014*\"tasmania\"\n",
      "Score: 0.016671407967805862\t Topic: 0.029*\"queensland\" + 0.021*\"help\" + 0.017*\"miss\" + 0.016*\"royal\" + 0.015*\"tasmanian\"\n",
      "Score: 0.016671407967805862\t Topic: 0.023*\"news\" + 0.022*\"women\" + 0.021*\"live\" + 0.020*\"warn\" + 0.020*\"coast\"\n",
      "Score: 0.016671407967805862\t Topic: 0.034*\"year\" + 0.031*\"charg\" + 0.028*\"court\" + 0.026*\"murder\" + 0.018*\"face\"\n"
     ]
    }
   ],
   "source": [
    "#Testing model on unseen document\n",
    "unseen_document = 'How a Pentagon deal became an identity crisis for Google'\n",
    "bow_vector = dictionary.doc2bow(preprocess(unseen_document))\n",
    "for index, score in sorted(lda_model[bow_vector], key=lambda tup: -1*tup[1]):\n",
    "    print(\"Score: {}\\t Topic: {}\".format(score, lda_model.print_topic(index, 5)))"
   ]
  },
  {
   "cell_type": "code",
   "execution_count": null,
   "metadata": {},
   "outputs": [],
   "source": []
  }
 ],
 "metadata": {
  "kernelspec": {
   "display_name": "Python 3",
   "language": "python",
   "name": "python3"
  },
  "language_info": {
   "codemirror_mode": {
    "name": "ipython",
    "version": 3
   },
   "file_extension": ".py",
   "mimetype": "text/x-python",
   "name": "python",
   "nbconvert_exporter": "python",
   "pygments_lexer": "ipython3",
   "version": "3.6.8"
  }
 },
 "nbformat": 4,
 "nbformat_minor": 2
}
