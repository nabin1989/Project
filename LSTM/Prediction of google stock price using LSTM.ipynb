{
 "cells": [
  {
   "cell_type": "code",
   "execution_count": null,
   "metadata": {},
   "outputs": [],
   "source": [
    "## the best model was with the time step of 60 \n",
    "## google stock price prediction"
   ]
  },
  {
   "cell_type": "code",
   "execution_count": 1,
   "metadata": {},
   "outputs": [],
   "source": [
    "# Importing the libraries without dropout\n",
    "import numpy as np\n",
    "import matplotlib.pyplot as plt\n",
    "import pandas as pd"
   ]
  },
  {
   "cell_type": "code",
   "execution_count": 2,
   "metadata": {},
   "outputs": [],
   "source": [
    "# Importing the training set\n",
    "dataset_train = pd.read_csv('Google_Stock_Price_Train.csv')\n",
    "training_set = dataset_train.iloc[:, 1:2].values"
   ]
  },
  {
   "cell_type": "code",
   "execution_count": 3,
   "metadata": {},
   "outputs": [],
   "source": [
    "# Feature Scaling\n",
    "from sklearn.preprocessing import MinMaxScaler\n",
    "sc = MinMaxScaler(feature_range = (0, 1))\n",
    "training_set_scaled = sc.fit_transform(training_set)"
   ]
  },
  {
   "cell_type": "code",
   "execution_count": 4,
   "metadata": {},
   "outputs": [],
   "source": [
    "# Creating a data structure with 60 timesteps and 1 output\n",
    "X_train = []\n",
    "y_train = []\n",
    "for i in range(60, 1258):\n",
    "    X_train.append(training_set_scaled[i-60:i, 0])\n",
    "    y_train.append(training_set_scaled[i, 0])\n",
    "X_train, y_train = np.array(X_train), np.array(y_train)"
   ]
  },
  {
   "cell_type": "code",
   "execution_count": 5,
   "metadata": {},
   "outputs": [],
   "source": [
    "# Reshaping\n",
    "X_train = np.reshape(X_train, (X_train.shape[0], X_train.shape[1], 1))"
   ]
  },
  {
   "cell_type": "code",
   "execution_count": 6,
   "metadata": {},
   "outputs": [
    {
     "name": "stderr",
     "output_type": "stream",
     "text": [
      "Using TensorFlow backend.\n"
     ]
    }
   ],
   "source": [
    "# Building the RNN\n",
    "\n",
    "# Importing the Keras libraries and packages\n",
    "from keras.models import Sequential\n",
    "from keras.layers import Dense\n",
    "from keras.layers import LSTM\n",
    "from keras.layers import Dropout"
   ]
  },
  {
   "cell_type": "code",
   "execution_count": 8,
   "metadata": {},
   "outputs": [
    {
     "name": "stdout",
     "output_type": "stream",
     "text": [
      "WARNING:tensorflow:From C:\\Users\\User\\Anaconda3\\lib\\site-packages\\tensorflow\\python\\ops\\math_ops.py:3066: to_int32 (from tensorflow.python.ops.math_ops) is deprecated and will be removed in a future version.\n",
      "Instructions for updating:\n",
      "Use tf.cast instead.\n",
      "Epoch 1/100\n",
      "1198/1198 [==============================] - 31s 26ms/step - loss: 0.0557\n",
      "Epoch 2/100\n",
      "1198/1198 [==============================] - 15s 13ms/step - loss: 0.0032\n",
      "Epoch 3/100\n",
      "1198/1198 [==============================] - 13s 11ms/step - loss: 0.0020\n",
      "Epoch 4/100\n",
      "1198/1198 [==============================] - 13s 11ms/step - loss: 0.0019\n",
      "Epoch 5/100\n",
      "1198/1198 [==============================] - 18s 15ms/step - loss: 0.0019\n",
      "Epoch 6/100\n",
      "1198/1198 [==============================] - 15s 13ms/step - loss: 0.0018\n",
      "Epoch 7/100\n",
      "1198/1198 [==============================] - 16s 13ms/step - loss: 0.0019\n",
      "Epoch 8/100\n",
      "1198/1198 [==============================] - 16s 13ms/step - loss: 0.0018\n",
      "Epoch 9/100\n",
      "1198/1198 [==============================] - 16s 13ms/step - loss: 0.0017\n",
      "Epoch 10/100\n",
      "1198/1198 [==============================] - 16s 14ms/step - loss: 0.0023\n",
      "Epoch 11/100\n",
      "1198/1198 [==============================] - 17s 14ms/step - loss: 0.0016\n",
      "Epoch 12/100\n",
      "1198/1198 [==============================] - 16s 14ms/step - loss: 0.0018\n",
      "Epoch 13/100\n",
      "1198/1198 [==============================] - 17s 14ms/step - loss: 0.0016\n",
      "Epoch 14/100\n",
      "1198/1198 [==============================] - 16s 13ms/step - loss: 0.0015\n",
      "Epoch 15/100\n",
      "1198/1198 [==============================] - 16s 13ms/step - loss: 0.0016\n",
      "Epoch 16/100\n",
      "1198/1198 [==============================] - 16s 13ms/step - loss: 0.0016\n",
      "Epoch 17/100\n",
      "1198/1198 [==============================] - 18s 15ms/step - loss: 0.0018\n",
      "Epoch 18/100\n",
      "1198/1198 [==============================] - 19s 16ms/step - loss: 0.0013\n",
      "Epoch 19/100\n",
      "1198/1198 [==============================] - 15s 13ms/step - loss: 0.0014\n",
      "Epoch 20/100\n",
      "1198/1198 [==============================] - 19s 15ms/step - loss: 0.0013\n",
      "Epoch 21/100\n",
      "1198/1198 [==============================] - 17s 14ms/step - loss: 0.0013\n",
      "Epoch 22/100\n",
      "1198/1198 [==============================] - 16s 14ms/step - loss: 0.0013\n",
      "Epoch 23/100\n",
      "1198/1198 [==============================] - 17s 14ms/step - loss: 0.0013\n",
      "Epoch 24/100\n",
      "1198/1198 [==============================] - 18s 15ms/step - loss: 0.0013\n",
      "Epoch 25/100\n",
      "1198/1198 [==============================] - 18s 15ms/step - loss: 0.0012\n",
      "Epoch 26/100\n",
      "1198/1198 [==============================] - 16s 13ms/step - loss: 0.0011\n",
      "Epoch 27/100\n",
      "1198/1198 [==============================] - 16s 13ms/step - loss: 0.0013\n",
      "Epoch 28/100\n",
      "1198/1198 [==============================] - 15s 12ms/step - loss: 0.0014\n",
      "Epoch 29/100\n",
      "1198/1198 [==============================] - 15s 13ms/step - loss: 0.0011\n",
      "Epoch 30/100\n",
      "1198/1198 [==============================] - 16s 14ms/step - loss: 0.0013\n",
      "Epoch 31/100\n",
      "1198/1198 [==============================] - 15s 13ms/step - loss: 0.0012\n",
      "Epoch 32/100\n",
      "1198/1198 [==============================] - 14s 12ms/step - loss: 0.0011\n",
      "Epoch 33/100\n",
      "1198/1198 [==============================] - 16s 13ms/step - loss: 9.6289e-04\n",
      "Epoch 34/100\n",
      "1198/1198 [==============================] - 16s 13ms/step - loss: 8.8053e-04\n",
      "Epoch 35/100\n",
      "1198/1198 [==============================] - 16s 13ms/step - loss: 9.8850e-04\n",
      "Epoch 36/100\n",
      "1198/1198 [==============================] - 18s 15ms/step - loss: 8.1543e-04\n",
      "Epoch 37/100\n",
      "1198/1198 [==============================] - 15s 13ms/step - loss: 7.7637e-04\n",
      "Epoch 38/100\n",
      "1198/1198 [==============================] - 15s 12ms/step - loss: 8.3362e-04\n",
      "Epoch 39/100\n",
      "1198/1198 [==============================] - 15s 13ms/step - loss: 7.8657e-04\n",
      "Epoch 40/100\n",
      "1198/1198 [==============================] - 15s 12ms/step - loss: 0.0010\n",
      "Epoch 41/100\n",
      "1198/1198 [==============================] - 14s 12ms/step - loss: 6.6370e-04\n",
      "Epoch 42/100\n",
      "1198/1198 [==============================] - 15s 13ms/step - loss: 7.7126e-04\n",
      "Epoch 43/100\n",
      "1198/1198 [==============================] - 15s 13ms/step - loss: 6.5369e-04\n",
      "Epoch 44/100\n",
      "1198/1198 [==============================] - 15s 12ms/step - loss: 6.0798e-04\n",
      "Epoch 45/100\n",
      "1198/1198 [==============================] - 17s 14ms/step - loss: 5.9745e-04\n",
      "Epoch 46/100\n",
      "1198/1198 [==============================] - 16s 13ms/step - loss: 5.1098e-04\n",
      "Epoch 47/100\n",
      "1198/1198 [==============================] - 16s 13ms/step - loss: 5.2511e-04\n",
      "Epoch 48/100\n",
      "1198/1198 [==============================] - 16s 14ms/step - loss: 5.0046e-04\n",
      "Epoch 49/100\n",
      "1198/1198 [==============================] - 19s 15ms/step - loss: 4.4442e-04\n",
      "Epoch 50/100\n",
      "1198/1198 [==============================] - 17s 14ms/step - loss: 4.3121e-04\n",
      "Epoch 51/100\n",
      "1198/1198 [==============================] - 18s 15ms/step - loss: 4.0630e-04\n",
      "Epoch 52/100\n",
      "1198/1198 [==============================] - 15s 12ms/step - loss: 4.1630e-04\n",
      "Epoch 53/100\n",
      "1198/1198 [==============================] - 15s 13ms/step - loss: 3.8962e-04\n",
      "Epoch 54/100\n",
      "1198/1198 [==============================] - 15s 12ms/step - loss: 4.2284e-04\n",
      "Epoch 55/100\n",
      "1198/1198 [==============================] - 15s 13ms/step - loss: 3.8141e-04\n",
      "Epoch 56/100\n",
      "1198/1198 [==============================] - 16s 13ms/step - loss: 4.3675e-04\n",
      "Epoch 57/100\n",
      "1198/1198 [==============================] - 15s 13ms/step - loss: 3.6280e-04\n",
      "Epoch 58/100\n",
      "1198/1198 [==============================] - 16s 13ms/step - loss: 4.2982e-04\n",
      "Epoch 59/100\n",
      "1198/1198 [==============================] - 16s 13ms/step - loss: 3.6133e-04\n",
      "Epoch 60/100\n",
      "1198/1198 [==============================] - 16s 13ms/step - loss: 3.4987e-04\n",
      "Epoch 61/100\n",
      "1198/1198 [==============================] - 16s 14ms/step - loss: 3.3725e-04\n",
      "Epoch 62/100\n",
      "1198/1198 [==============================] - 16s 14ms/step - loss: 3.2502e-04\n",
      "Epoch 63/100\n",
      "1198/1198 [==============================] - 17s 14ms/step - loss: 3.8635e-04\n",
      "Epoch 64/100\n",
      "1198/1198 [==============================] - 16s 14ms/step - loss: 4.7446e-04\n",
      "Epoch 65/100\n",
      "1198/1198 [==============================] - 16s 14ms/step - loss: 3.7057e-04\n",
      "Epoch 66/100\n",
      "1198/1198 [==============================] - 15s 13ms/step - loss: 3.6265e-04\n",
      "Epoch 67/100\n",
      "1198/1198 [==============================] - 17s 14ms/step - loss: 3.7934e-04\n",
      "Epoch 68/100\n",
      "1198/1198 [==============================] - 16s 14ms/step - loss: 3.6434e-04\n",
      "Epoch 69/100\n",
      "1198/1198 [==============================] - 16s 13ms/step - loss: 3.2176e-04\n",
      "Epoch 70/100\n",
      "1198/1198 [==============================] - 17s 14ms/step - loss: 3.2143e-04\n",
      "Epoch 71/100\n",
      "1198/1198 [==============================] - 17s 14ms/step - loss: 4.1982e-04\n",
      "Epoch 72/100\n",
      "1198/1198 [==============================] - 16s 14ms/step - loss: 5.2065e-04\n",
      "Epoch 73/100\n",
      "1198/1198 [==============================] - 16s 13ms/step - loss: 4.1826e-04\n",
      "Epoch 74/100\n",
      "1198/1198 [==============================] - 16s 14ms/step - loss: 3.2597e-04\n",
      "Epoch 75/100\n",
      "1198/1198 [==============================] - 17s 14ms/step - loss: 3.7736e-04\n",
      "Epoch 76/100\n",
      "1198/1198 [==============================] - 16s 14ms/step - loss: 3.2137e-04\n",
      "Epoch 77/100\n",
      "1198/1198 [==============================] - 16s 14ms/step - loss: 3.3231e-04\n",
      "Epoch 78/100\n",
      "1198/1198 [==============================] - 17s 14ms/step - loss: 3.4697e-04\n",
      "Epoch 79/100\n",
      "1198/1198 [==============================] - 18s 15ms/step - loss: 3.0294e-04\n",
      "Epoch 80/100\n",
      "1198/1198 [==============================] - 17s 14ms/step - loss: 3.2403e-04\n",
      "Epoch 81/100\n",
      "1198/1198 [==============================] - 17s 14ms/step - loss: 4.1458e-04\n",
      "Epoch 82/100\n",
      "1198/1198 [==============================] - 17s 14ms/step - loss: 3.2541e-04\n",
      "Epoch 83/100\n",
      "1198/1198 [==============================] - 17s 14ms/step - loss: 3.4656e-04\n",
      "Epoch 84/100\n",
      "1198/1198 [==============================] - 16s 14ms/step - loss: 3.7101e-04\n",
      "Epoch 85/100\n",
      "1198/1198 [==============================] - 17s 14ms/step - loss: 4.2622e-04\n",
      "Epoch 86/100\n",
      "1198/1198 [==============================] - 17s 14ms/step - loss: 3.2613e-04\n",
      "Epoch 87/100\n",
      "1198/1198 [==============================] - 17s 14ms/step - loss: 3.1416e-04\n",
      "Epoch 88/100\n",
      "1198/1198 [==============================] - 16s 13ms/step - loss: 3.6088e-04\n",
      "Epoch 89/100\n",
      "1198/1198 [==============================] - 14s 12ms/step - loss: 3.3788e-04\n",
      "Epoch 90/100\n",
      "1198/1198 [==============================] - 19s 15ms/step - loss: 3.1189e-04\n",
      "Epoch 91/100\n",
      "1198/1198 [==============================] - 15s 12ms/step - loss: 3.1422e-04\n",
      "Epoch 92/100\n",
      "1198/1198 [==============================] - 15s 13ms/step - loss: 3.9373e-04\n",
      "Epoch 93/100\n",
      "1198/1198 [==============================] - 16s 14ms/step - loss: 3.0930e-04\n",
      "Epoch 94/100\n",
      "1198/1198 [==============================] - 18s 15ms/step - loss: 3.3617e-04\n",
      "Epoch 95/100\n",
      "1198/1198 [==============================] - 16s 13ms/step - loss: 3.1910e-04\n",
      "Epoch 96/100\n",
      "1198/1198 [==============================] - 16s 13ms/step - loss: 4.4545e-04\n",
      "Epoch 97/100\n",
      "1198/1198 [==============================] - 17s 14ms/step - loss: 3.0358e-04\n",
      "Epoch 98/100\n",
      "1198/1198 [==============================] - 17s 14ms/step - loss: 2.9359e-04\n",
      "Epoch 99/100\n",
      "1198/1198 [==============================] - 17s 14ms/step - loss: 2.9278e-04\n",
      "Epoch 100/100\n",
      "1198/1198 [==============================] - 16s 13ms/step - loss: 2.8964e-04\n"
     ]
    },
    {
     "data": {
      "text/plain": [
       "<keras.callbacks.History at 0x2032abcc9e8>"
      ]
     },
     "execution_count": 8,
     "metadata": {},
     "output_type": "execute_result"
    }
   ],
   "source": [
    "# Initialising the RNN\n",
    "regressor = Sequential()\n",
    "\n",
    "# Adding the first LSTM layer and some Dropout regularisation\n",
    "regressor.add(LSTM(units = 50, return_sequences = True, input_shape = (X_train.shape[1], 1)))\n",
    "\n",
    "\n",
    "# Adding a second LSTM layer and some Dropout regularisation\n",
    "regressor.add(LSTM(units = 50, return_sequences = True))\n",
    "\n",
    "\n",
    "# Adding a third LSTM layer and some Dropout regularisation\n",
    "regressor.add(LSTM(units = 50, return_sequences = True))\n",
    "\n",
    "\n",
    "# Adding a fourth LSTM layer and some Dropout regularisation\n",
    "regressor.add(LSTM(units = 50))\n",
    "\n",
    "\n",
    "# Adding the output layer\n",
    "regressor.add(Dense(units = 1))\n",
    "\n",
    "# Compiling the RNN\n",
    "regressor.compile(optimizer = 'adam', loss = 'mean_squared_error')\n",
    "\n",
    "# Fitting the RNN to the Training set\n",
    "regressor.fit(X_train, y_train, epochs = 100, batch_size = 32)\n"
   ]
  },
  {
   "cell_type": "code",
   "execution_count": 9,
   "metadata": {
    "scrolled": true
   },
   "outputs": [
    {
     "data": {
      "image/png": "[encoded data removed]",
      "text/plain": [
       "<Figure size 432x288 with 1 Axes>"
      ]
     },
     "metadata": {
      "needs_background": "light"
     },
     "output_type": "display_data"
    }
   ],
   "source": [
    "# Making the predictions and visualising the results\n",
    "\n",
    "# Getting the real stock price of 2017\n",
    "dataset_test = pd.read_csv('Google_Stock_Price_Test.csv')\n",
    "real_stock_price = dataset_test.iloc[:, 1:2].values\n",
    "\n",
    "# Getting the predicted stock price of 2017\n",
    "dataset_total = pd.concat((dataset_train['Open'], dataset_test['Open']), axis = 0)\n",
    "inputs = dataset_total[len(dataset_total) - len(dataset_test) - 60:].values\n",
    "inputs = inputs.reshape(-1,1)\n",
    "inputs = sc.transform(inputs)\n",
    "X_test = []\n",
    "for i in range(60, 80):\n",
    "    X_test.append(inputs[i-60:i, 0])\n",
    "X_test = np.array(X_test)\n",
    "X_test = np.reshape(X_test, (X_test.shape[0], X_test.shape[1], 1))\n",
    "predicted_stock_price = regressor.predict(X_test)\n",
    "predicted_stock_price = sc.inverse_transform(predicted_stock_price)\n",
    "\n",
    "# Visualising the results\n",
    "plt.plot(real_stock_price, color = 'red', label = 'Real Google Stock Price')\n",
    "plt.plot(predicted_stock_price, color = 'blue', label = 'Predicted Google Stock Price')\n",
    "plt.title('Google Stock Price Prediction')\n",
    "plt.xlabel('Time')\n",
    "plt.ylabel('Google Stock Price')\n",
    "plt.legend()\n",
    "plt.show()"
   ]
  },
  {
   "cell_type": "code",
   "execution_count": null,
   "metadata": {},
   "outputs": [],
   "source": [
    "# model with drop out"
   ]
  },
  {
   "cell_type": "code",
   "execution_count": 10,
   "metadata": {},
   "outputs": [],
   "source": [
    "# Importing the libraries\n",
    "import numpy as np\n",
    "import matplotlib.pyplot as plt\n",
    "import pandas as pd"
   ]
  },
  {
   "cell_type": "code",
   "execution_count": 11,
   "metadata": {},
   "outputs": [],
   "source": [
    "# Importing the training set\n",
    "dataset_train = pd.read_csv('Google_Stock_Price_Train.csv')\n",
    "training_set = dataset_train.iloc[:, 1:2].values"
   ]
  },
  {
   "cell_type": "code",
   "execution_count": 12,
   "metadata": {},
   "outputs": [],
   "source": [
    "# Feature Scaling\n",
    "from sklearn.preprocessing import MinMaxScaler\n",
    "sc = MinMaxScaler(feature_range = (0, 1))\n",
    "training_set_scaled = sc.fit_transform(training_set)"
   ]
  },
  {
   "cell_type": "code",
   "execution_count": 13,
   "metadata": {},
   "outputs": [],
   "source": [
    "# Creating a data structure with 60 timesteps and 1 output\n",
    "X_train = []\n",
    "y_train = []\n",
    "for i in range(60, 1258):\n",
    "    X_train.append(training_set_scaled[i-60:i, 0])\n",
    "    y_train.append(training_set_scaled[i, 0])\n",
    "X_train, y_train = np.array(X_train), np.array(y_train)"
   ]
  },
  {
   "cell_type": "code",
   "execution_count": 15,
   "metadata": {},
   "outputs": [
    {
     "data": {
      "text/plain": [
       "(1198, 60)"
      ]
     },
     "execution_count": 15,
     "metadata": {},
     "output_type": "execute_result"
    }
   ],
   "source": [
    " #we see the difference in the shape of X_train and training_set_scaled of 60 observation becuse we used i range from 60\n",
    "# Xtrain has 1198 rows  with 60 column\n",
    "X_train.shape"
   ]
  },
  {
   "cell_type": "code",
   "execution_count": 16,
   "metadata": {},
   "outputs": [
    {
     "data": {
      "text/plain": [
       "array([0.08627874, 0.08471612, 0.07454052, ..., 0.95725128, 0.93796041,\n",
       "       0.93688146])"
      ]
     },
     "execution_count": 16,
     "metadata": {},
     "output_type": "execute_result"
    }
   ],
   "source": [
    "y_train"
   ]
  },
  {
   "cell_type": "code",
   "execution_count": 17,
   "metadata": {},
   "outputs": [
    {
     "data": {
      "text/plain": [
       "(1198,)"
      ]
     },
     "execution_count": 17,
     "metadata": {},
     "output_type": "execute_result"
    }
   ],
   "source": [
    "# shape of the ytrain\n",
    "y_train.shape"
   ]
  },
  {
   "cell_type": "code",
   "execution_count": 18,
   "metadata": {},
   "outputs": [],
   "source": [
    "# Reshaping(adding predictor to the dataset with currently working) fro keras documentation we will find that the input sahpe for\n",
    "# recurrent neural network 3D tensor first is batch size which is equivalent to number of observation , 2nd is time step and 3rd\n",
    "#is predictor that is needed for prediction# in our case is 1 predictor\n",
    "X_train = np.reshape(X_train, (X_train.shape[0], X_train.shape[1], 1))"
   ]
  },
  {
   "cell_type": "code",
   "execution_count": 19,
   "metadata": {},
   "outputs": [
    {
     "data": {
      "text/plain": [
       "(1198, 60, 1)"
      ]
     },
     "execution_count": 19,
     "metadata": {},
     "output_type": "execute_result"
    }
   ],
   "source": [
    "X_train.shape"
   ]
  },
  {
   "cell_type": "code",
   "execution_count": 21,
   "metadata": {},
   "outputs": [
    {
     "name": "stdout",
     "output_type": "stream",
     "text": [
      "WARNING:tensorflow:From C:\\Users\\User\\Anaconda3\\lib\\site-packages\\keras\\backend\\tensorflow_backend.py:3445: calling dropout (from tensorflow.python.ops.nn_ops) with keep_prob is deprecated and will be removed in a future version.\n",
      "Instructions for updating:\n",
      "Please use `rate` instead of `keep_prob`. Rate should be set to `rate = 1 - keep_prob`.\n",
      "Epoch 1/100\n",
      "1198/1198 [==============================] - 10s 8ms/step - loss: 0.0524\n",
      "Epoch 2/100\n",
      "1198/1198 [==============================] - 5s 4ms/step - loss: 0.0065\n",
      "Epoch 3/100\n",
      "1198/1198 [==============================] - 5s 4ms/step - loss: 0.0053\n",
      "Epoch 4/100\n",
      "1198/1198 [==============================] - 5s 4ms/step - loss: 0.0052\n",
      "Epoch 5/100\n",
      "1198/1198 [==============================] - 5s 4ms/step - loss: 0.0047\n",
      "Epoch 6/100\n",
      "1198/1198 [==============================] - 5s 4ms/step - loss: 0.0044\n",
      "Epoch 7/100\n",
      "1198/1198 [==============================] - 5s 4ms/step - loss: 0.0043\n",
      "Epoch 8/100\n",
      "1198/1198 [==============================] - 5s 4ms/step - loss: 0.0046\n",
      "Epoch 9/100\n",
      "1198/1198 [==============================] - 5s 4ms/step - loss: 0.0041\n",
      "Epoch 10/100\n",
      "1198/1198 [==============================] - 8s 6ms/step - loss: 0.0040\n",
      "Epoch 11/100\n",
      "1198/1198 [==============================] - 5s 4ms/step - loss: 0.0040\n",
      "Epoch 12/100\n",
      "1198/1198 [==============================] - 5s 4ms/step - loss: 0.0043\n",
      "Epoch 13/100\n",
      "1198/1198 [==============================] - 5s 4ms/step - loss: 0.0044\n",
      "Epoch 14/100\n",
      "1198/1198 [==============================] - 5s 4ms/step - loss: 0.0047\n",
      "Epoch 15/100\n",
      "1198/1198 [==============================] - 5s 4ms/step - loss: 0.0038\n",
      "Epoch 16/100\n",
      "1198/1198 [==============================] - 5s 4ms/step - loss: 0.0038\n",
      "Epoch 17/100\n",
      "1198/1198 [==============================] - 5s 4ms/step - loss: 0.0042\n",
      "Epoch 18/100\n",
      "1198/1198 [==============================] - 5s 4ms/step - loss: 0.0041\n",
      "Epoch 19/100\n",
      "1198/1198 [==============================] - 5s 4ms/step - loss: 0.0033\n",
      "Epoch 20/100\n",
      "1198/1198 [==============================] - 5s 4ms/step - loss: 0.0035\n",
      "Epoch 21/100\n",
      "1198/1198 [==============================] - 5s 4ms/step - loss: 0.0033\n",
      "Epoch 22/100\n",
      "1198/1198 [==============================] - 5s 4ms/step - loss: 0.0034\n",
      "Epoch 23/100\n",
      "1198/1198 [==============================] - 6s 5ms/step - loss: 0.0030\n",
      "Epoch 24/100\n",
      "1198/1198 [==============================] - 6s 5ms/step - loss: 0.0035\n",
      "Epoch 25/100\n",
      "1198/1198 [==============================] - 6s 5ms/step - loss: 0.0035A: 2s -\n",
      "Epoch 26/100\n",
      "1198/1198 [==============================] - 7s 6ms/step - loss: 0.0031\n",
      "Epoch 27/100\n",
      "1198/1198 [==============================] - 6s 5ms/step - loss: 0.0031\n",
      "Epoch 28/100\n",
      "1198/1198 [==============================] - 12s 10ms/step - loss: 0.0030\n",
      "Epoch 29/100\n",
      "1198/1198 [==============================] - ETA: 0s - loss: 0.003 - 10s 8ms/step - loss: 0.0030\n",
      "Epoch 30/100\n",
      "1198/1198 [==============================] - 10s 8ms/step - loss: 0.0028\n",
      "Epoch 31/100\n",
      "1198/1198 [==============================] - 12s 10ms/step - loss: 0.0030\n",
      "Epoch 32/100\n",
      "1198/1198 [==============================] - 10s 8ms/step - loss: 0.0032\n",
      "Epoch 33/100\n",
      "1198/1198 [==============================] - 13s 11ms/step - loss: 0.0031\n",
      "Epoch 34/100\n",
      "1198/1198 [==============================] - 9s 7ms/step - loss: 0.0033\n",
      "Epoch 35/100\n",
      "1198/1198 [==============================] - 10s 9ms/step - loss: 0.0029\n",
      "Epoch 36/100\n",
      "1198/1198 [==============================] - 11s 9ms/step - loss: 0.0029\n",
      "Epoch 37/100\n",
      "1198/1198 [==============================] - 8s 6ms/step - loss: 0.0027\n",
      "Epoch 38/100\n",
      "1198/1198 [==============================] - 5s 4ms/step - loss: 0.0025\n",
      "Epoch 39/100\n",
      "1198/1198 [==============================] - 5s 4ms/step - loss: 0.0025\n",
      "Epoch 40/100\n",
      "1198/1198 [==============================] - 5s 4ms/step - loss: 0.0029\n",
      "Epoch 41/100\n",
      "1198/1198 [==============================] - 5s 4ms/step - loss: 0.0026\n",
      "Epoch 42/100\n",
      "1198/1198 [==============================] - 5s 4ms/step - loss: 0.0029\n",
      "Epoch 43/100\n",
      "1198/1198 [==============================] - 5s 4ms/step - loss: 0.0025\n",
      "Epoch 44/100\n",
      "1198/1198 [==============================] - 7s 6ms/step - loss: 0.0026\n",
      "Epoch 45/100\n",
      "1198/1198 [==============================] - 6s 5ms/step - loss: 0.0025\n",
      "Epoch 46/100\n",
      "1198/1198 [==============================] - 5s 4ms/step - loss: 0.0027\n",
      "Epoch 47/100\n",
      "1198/1198 [==============================] - 5s 4ms/step - loss: 0.0026\n",
      "Epoch 48/100\n",
      "1198/1198 [==============================] - 5s 4ms/step - loss: 0.0023\n",
      "Epoch 49/100\n",
      "1198/1198 [==============================] - 5s 4ms/step - loss: 0.0024\n",
      "Epoch 50/100\n",
      "1198/1198 [==============================] - 5s 4ms/step - loss: 0.0022\n",
      "Epoch 51/100\n",
      "1198/1198 [==============================] - 5s 4ms/step - loss: 0.0024\n",
      "Epoch 52/100\n",
      "1198/1198 [==============================] - 5s 4ms/step - loss: 0.0023\n",
      "Epoch 53/100\n",
      "1198/1198 [==============================] - 5s 4ms/step - loss: 0.0022\n",
      "Epoch 54/100\n",
      "1198/1198 [==============================] - 5s 4ms/step - loss: 0.0024\n",
      "Epoch 55/100\n",
      "1198/1198 [==============================] - 5s 4ms/step - loss: 0.0022\n",
      "Epoch 56/100\n",
      "1198/1198 [==============================] - 5s 4ms/step - loss: 0.0023\n",
      "Epoch 57/100\n",
      "1198/1198 [==============================] - 5s 4ms/step - loss: 0.0022\n",
      "Epoch 58/100\n",
      "1198/1198 [==============================] - 5s 4ms/step - loss: 0.0022\n",
      "Epoch 59/100\n",
      "1198/1198 [==============================] - 5s 4ms/step - loss: 0.0018\n",
      "Epoch 60/100\n",
      "1198/1198 [==============================] - 5s 4ms/step - loss: 0.0019\n",
      "Epoch 61/100\n",
      "1198/1198 [==============================] - 5s 4ms/step - loss: 0.0021\n",
      "Epoch 62/100\n",
      "1198/1198 [==============================] - 6s 5ms/step - loss: 0.0022\n",
      "Epoch 63/100\n",
      "1198/1198 [==============================] - 6s 5ms/step - loss: 0.0022\n",
      "Epoch 64/100\n",
      "1198/1198 [==============================] - 6s 5ms/step - loss: 0.0019\n",
      "Epoch 65/100\n",
      "1198/1198 [==============================] - 7s 5ms/step - loss: 0.0022\n",
      "Epoch 66/100\n",
      "1198/1198 [==============================] - 8s 7ms/step - loss: 0.0022\n",
      "Epoch 67/100\n",
      "1198/1198 [==============================] - 5s 4ms/step - loss: 0.0020\n",
      "Epoch 68/100\n",
      "1198/1198 [==============================] - 5s 5ms/step - loss: 0.0020\n",
      "Epoch 69/100\n",
      "1198/1198 [==============================] - 5s 4ms/step - loss: 0.0022\n",
      "Epoch 70/100\n",
      "1198/1198 [==============================] - 5s 4ms/step - loss: 0.0022\n",
      "Epoch 71/100\n",
      "1198/1198 [==============================] - 5s 4ms/step - loss: 0.0021\n",
      "Epoch 72/100\n",
      "1198/1198 [==============================] - 6s 5ms/step - loss: 0.0018\n",
      "Epoch 73/100\n",
      "1198/1198 [==============================] - 5s 4ms/step - loss: 0.0020\n",
      "Epoch 74/100\n",
      "1198/1198 [==============================] - 5s 4ms/step - loss: 0.0018\n",
      "Epoch 75/100\n",
      "1198/1198 [==============================] - 5s 4ms/step - loss: 0.0018\n",
      "Epoch 76/100\n",
      "1198/1198 [==============================] - 5s 4ms/step - loss: 0.0017\n",
      "Epoch 77/100\n",
      "1198/1198 [==============================] - 5s 5ms/step - loss: 0.0016\n",
      "Epoch 78/100\n",
      "1198/1198 [==============================] - 5s 4ms/step - loss: 0.0018\n",
      "Epoch 79/100\n",
      "1198/1198 [==============================] - 5s 4ms/step - loss: 0.0017\n",
      "Epoch 80/100\n",
      "1198/1198 [==============================] - 6s 5ms/step - loss: 0.0018\n",
      "Epoch 81/100\n",
      "1198/1198 [==============================] - 7s 6ms/step - loss: 0.0017\n",
      "Epoch 82/100\n",
      "1198/1198 [==============================] - 5s 5ms/step - loss: 0.0016\n",
      "Epoch 83/100\n",
      "1198/1198 [==============================] - 6s 5ms/step - loss: 0.0017\n",
      "Epoch 84/100\n",
      "1198/1198 [==============================] - 5s 4ms/step - loss: 0.0016\n",
      "Epoch 85/100\n",
      "1198/1198 [==============================] - 5s 4ms/step - loss: 0.0016\n",
      "Epoch 86/100\n",
      "1198/1198 [==============================] - 5s 4ms/step - loss: 0.0017\n",
      "Epoch 87/100\n",
      "1198/1198 [==============================] - 5s 5ms/step - loss: 0.0017\n",
      "Epoch 88/100\n",
      "1198/1198 [==============================] - 6s 5ms/step - loss: 0.0016\n",
      "Epoch 89/100\n",
      "1198/1198 [==============================] - 7s 6ms/step - loss: 0.0015\n",
      "Epoch 90/100\n",
      "1198/1198 [==============================] - 5s 4ms/step - loss: 0.0015\n",
      "Epoch 91/100\n",
      "1198/1198 [==============================] - 5s 4ms/step - loss: 0.0015\n",
      "Epoch 92/100\n",
      "1198/1198 [==============================] - 5s 4ms/step - loss: 0.0016\n",
      "Epoch 93/100\n",
      "1198/1198 [==============================] - 5s 4ms/step - loss: 0.0015\n",
      "Epoch 94/100\n",
      "1198/1198 [==============================] - 5s 4ms/step - loss: 0.0015\n",
      "Epoch 95/100\n",
      "1198/1198 [==============================] - 5s 4ms/step - loss: 0.0016\n",
      "Epoch 96/100\n",
      "1198/1198 [==============================] - 6s 5ms/step - loss: 0.0015\n",
      "Epoch 97/100\n",
      "1198/1198 [==============================] - 5s 4ms/step - loss: 0.0016\n",
      "Epoch 98/100\n",
      "1198/1198 [==============================] - 5s 4ms/step - loss: 0.0015\n",
      "Epoch 99/100\n",
      "1198/1198 [==============================] - 5s 4ms/step - loss: 0.0015\n",
      "Epoch 100/100\n",
      "1198/1198 [==============================] - 5s 4ms/step - loss: 0.0015\n"
     ]
    },
    {
     "data": {
      "text/plain": [
       "<keras.callbacks.History at 0x20336793908>"
      ]
     },
     "execution_count": 21,
     "metadata": {},
     "output_type": "execute_result"
    }
   ],
   "source": [
    "# Building the RNN\n",
    "\n",
    "# Importing the Keras libraries and packages\n",
    "from keras.models import Sequential\n",
    "from keras.layers import Dense\n",
    "from keras.layers import LSTM\n",
    "from keras.layers import Dropout\n",
    "# Initialising the RNN\n",
    "regressor = Sequential()\n",
    "# Adding the first LSTM layer and some Dropout regularisation\n",
    "regressor.add(LSTM(units = 50, return_sequences = True, input_shape = (X_train.shape[1], 1)))\n",
    "regressor.add(Dropout(0.2))\n",
    "\n",
    "# Adding a second LSTM layer and some Dropout regularisation\n",
    "regressor.add(LSTM(units = 50, return_sequences = True))\n",
    "regressor.add(Dropout(0.2))\n",
    "\n",
    "# Adding a third LSTM layer and some Dropout regularisation\n",
    "regressor.add(LSTM(units = 50, return_sequences = True))\n",
    "regressor.add(Dropout(0.2))\n",
    "\n",
    "# Adding a fourth LSTM layer and some Dropout regularisation\n",
    "regressor.add(LSTM(units = 50))\n",
    "regressor.add(Dropout(0.2))\n",
    "\n",
    "# Adding the output layer\n",
    "regressor.add(Dense(units = 1))\n",
    "\n",
    "# Compiling the RNN\n",
    "regressor.compile(optimizer = 'adam', loss = 'mean_squared_error')\n",
    "\n",
    "# Fitting the RNN to the Training set\n",
    "regressor.fit(X_train, y_train, epochs = 100, batch_size = 32)"
   ]
  },
  {
   "cell_type": "code",
   "execution_count": 22,
   "metadata": {},
   "outputs": [
    {
     "data": {
      "image/png": "[encoded data removed]",
      "text/plain": [
       "<Figure size 432x288 with 1 Axes>"
      ]
     },
     "metadata": {
      "needs_background": "light"
     },
     "output_type": "display_data"
    }
   ],
   "source": [
    "# Making the predictions and visualising the results\n",
    "# Getting the real stock price of 2017\n",
    "dataset_test = pd.read_csv('Google_Stock_Price_Test.csv')\n",
    "real_stock_price = dataset_test.iloc[:, 1:2].values\n",
    "    \n",
    "# Getting the predicted stock price of 2017\n",
    "dataset_total = pd.concat((dataset_train['Open'], dataset_test['Open']), axis = 0)\n",
    "inputs = dataset_total[len(dataset_total) - len(dataset_test) - 60:].values\n",
    "inputs = inputs.reshape(-1,1)\n",
    "inputs = sc.transform(inputs)\n",
    "#inputs\n",
    "#dataset_total\n",
    "X_test = []\n",
    "for i in range(60, 80):\n",
    "    X_test.append(inputs[i-60:i, 0])\n",
    "X_test = np.array(X_test)\n",
    "X_test = np.reshape(X_test, (X_test.shape[0], X_test.shape[1], 1))\n",
    "predicted_stock_price = regressor.predict(X_test)\n",
    "predicted_stock_price = sc.inverse_transform(predicted_stock_price)\n",
    "# Visualising the results\n",
    "plt.plot(real_stock_price, color = 'red', label = 'Real Google Stock Price')\n",
    "plt.plot(predicted_stock_price, color = 'blue', label = 'Predicted Google Stock Price')\n",
    "plt.title('Google Stock Price Prediction')\n",
    "plt.xlabel('Time')\n",
    "plt.ylabel('Google Stock Price')\n",
    "plt.legend()\n",
    "plt.show()\n"
   ]
  },
  {
   "cell_type": "code",
   "execution_count": null,
   "metadata": {},
   "outputs": [],
   "source": []
  }
 ],
 "metadata": {
  "kernelspec": {
   "display_name": "Python 3",
   "language": "python",
   "name": "python3"
  },
  "language_info": {
   "codemirror_mode": {
    "name": "ipython",
    "version": 3
   },
   "file_extension": ".py",
   "mimetype": "text/x-python",
   "name": "python",
   "nbconvert_exporter": "python",
   "pygments_lexer": "ipython3",
   "version": "3.6.8"
  }
 },
 "nbformat": 4,
 "nbformat_minor": 2
}
